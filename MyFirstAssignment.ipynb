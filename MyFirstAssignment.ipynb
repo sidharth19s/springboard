{
 "cells": [
  {
   "cell_type": "code",
   "execution_count": null,
   "metadata": {},
   "outputs": [],
   "source": [
    "import numpy as np\n",
    "import pandas as pd\n",
    "excelfile = pd.ExcelFile('dummy.xlsx')\n",
    "df1= excelfile.parse('Dummy1')\n",
    "df2= excelfile.parse('Dummy2')\n",
    "df3= excelfile.parse('Dummy3')\n",
    "df4= excelfile.parse('Dummy4')\n",
    "df5= excelfile.parse('Dummy5')\n",
    "df6= excelfile.parse('Dummy6')\n",
    "df7= excelfile.parse('Dummy7')\n",
    "df8= excelfile.parse('Dummy8')\n",
    "df9= excelfile.parse('Dummy9')\n",
    "df10= excelfile.parse('Dummy10')\n",
    "\n",
    "df1.to_csv('dummy1.csv')\n",
    "df2.to_csv('dummy2.csv')\n",
    "df3.to_csv('dummy3.csv')\n",
    "df4.to_csv('dummy4.csv')\n",
    "df5.to_csv('dummy5.csv')\n",
    "df6.to_csv('dummy6.csv')\n",
    "df7.to_csv('dummy7.csv')\n",
    "df8.to_csv('dummy8.csv')\n",
    "df9.to_csv('dummy9.csv')\n",
    "df10.to_csv('dummy10.csv')"
   ]
  }
 ],
 "metadata": {
  "kernelspec": {
   "display_name": "Python 3",
   "language": "python",
   "name": "python3"
  },
  "language_info": {
   "codemirror_mode": {
    "name": "ipython",
    "version": 3
   },
   "file_extension": ".py",
   "mimetype": "text/x-python",
   "name": "python",
   "nbconvert_exporter": "python",
   "pygments_lexer": "ipython3",
   "version": "3.7.6"
  }
 },
 "nbformat": 4,
 "nbformat_minor": 4
}
